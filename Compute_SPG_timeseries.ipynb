{
 "cells": [
  {
   "cell_type": "markdown",
   "id": "2251bea2-22d8-4986-85be-eba95cac83c7",
   "metadata": {},
   "source": [
    "# Compute some timeseries for FOCI-OpenIFS derived output"
   ]
  },
  {
   "cell_type": "code",
   "execution_count": 1,
   "id": "a3c32065-55e1-4c95-ac4f-6e3684cf2110",
   "metadata": {},
   "outputs": [],
   "source": [
    "import numpy as np\n",
    "import matplotlib.pyplot as plt\n",
    "import matplotlib.colors as colors\n",
    "import xarray as xr\n",
    "import cartopy\n",
    "import cartopy.crs as ccrs\n",
    "import cmocean \n",
    "from scipy.signal import welch, coherence, cwt\n",
    "from scipy.signal import detrend as sp_detrend\n",
    "from scipy import signal, stats\n",
    "import seaborn as sns\n",
    "import string\n",
    "from eofs.xarray import Eof"
   ]
  },
  {
   "cell_type": "code",
   "execution_count": 2,
   "id": "1e1b7793-8963-4555-a896-fead2abd47ab",
   "metadata": {},
   "outputs": [],
   "source": [
    "def detrend(ds, dim=\"time\"):\n",
    "    return xr.apply_ufunc(\n",
    "        sp_detrend,\n",
    "        ds.dropna(dim),\n",
    "        input_core_dims=[[dim]],\n",
    "        output_core_dims=[[dim]],\n",
    "    )\n",
    "\n",
    "def wgtm(data):\n",
    "    weights = np.cos(np.deg2rad(data.lat))\n",
    "    weights.name = \"weights\"\n",
    "    wgt = data.weighted(weights)\n",
    "    mean = wgt.mean(('lon','lat'))\n",
    "    return mean"
   ]
  },
  {
   "cell_type": "code",
   "execution_count": 3,
   "id": "0b0b182a-f297-4af5-9e76-c9f31d7f281f",
   "metadata": {},
   "outputs": [
    {
     "data": {
      "text/html": [
       "<table style=\"border: 2px solid white;\">\n",
       "<tr>\n",
       "<td style=\"vertical-align: top; border: 0px solid white\">\n",
       "<h3 style=\"text-align: left;\">Client</h3>\n",
       "<ul style=\"text-align: left; list-style: none; margin: 0; padding: 0;\">\n",
       "  <li><b>Scheduler: </b>tcp://127.0.0.1:46871</li>\n",
       "  <li><b>Dashboard: </b><a href='http://127.0.0.1:8787/status' target='_blank'>http://127.0.0.1:8787/status</a></li>\n",
       "</ul>\n",
       "</td>\n",
       "<td style=\"vertical-align: top; border: 0px solid white\">\n",
       "<h3 style=\"text-align: left;\">Cluster</h3>\n",
       "<ul style=\"text-align: left; list-style:none; margin: 0; padding: 0;\">\n",
       "  <li><b>Workers: </b>4</li>\n",
       "  <li><b>Cores: </b>8</li>\n",
       "  <li><b>Memory: </b>59.60 GiB</li>\n",
       "</ul>\n",
       "</td>\n",
       "</tr>\n",
       "</table>"
      ],
      "text/plain": [
       "<Client: 'tcp://127.0.0.1:46871' processes=4 threads=8, memory=59.60 GiB>"
      ]
     },
     "execution_count": 3,
     "metadata": {},
     "output_type": "execute_result"
    }
   ],
   "source": [
    "from dask.distributed import Client, LocalCluster, wait\n",
    "cluster = LocalCluster(n_workers=4, threads_per_worker=2, memory_limit=16e9,\n",
    "                       silence_logs=50)\n",
    "client = Client(address=cluster)\n",
    "client"
   ]
  },
  {
   "cell_type": "code",
   "execution_count": 4,
   "id": "ea32bf1b-84b5-4e96-bfb7-ba132a5f2fc2",
   "metadata": {},
   "outputs": [],
   "source": [
    "machine = 'nesh'\n",
    "\n",
    "if machine == 'sci':\n",
    "    esmdir = '/data/user/jkjellsson/esm-experiments/focioifs/'\n",
    "    nemo_mesh = '/data/user/jkjellsson/orca05_mesh_mask.nc'\n",
    "elif machine == 'nesh':\n",
    "    esmdir = '/gxfs_work1/geomar/smomw352/esm-experiments/'\n",
    "    nemo_mesh = '/gxfs_work1/geomar/smomw352/orca05_mesh_mask.nc'"
   ]
  },
  {
   "cell_type": "code",
   "execution_count": 33,
   "id": "3ffcc6cc-c793-4bee-87a6-ad6e6f0b0227",
   "metadata": {},
   "outputs": [],
   "source": [
    "# NEMO mesh\n",
    "ds_mesh = xr.open_dataset(nemo_mesh)\n",
    "da_orca05_area = (ds_mesh['e1t'] * ds_mesh['e2t']).sel(t=0)\n",
    "da_orca05_mask = ds_mesh['tmask'].sel(t=0,z=0)\n",
    "da_orca05_lon = ds_mesh['nav_lon']\n",
    "da_orca05_lat = ds_mesh['nav_lat']"
   ]
  },
  {
   "cell_type": "code",
   "execution_count": 5,
   "id": "c67d2af6-60bf-45be-98f0-efc71fa13dcb",
   "metadata": {},
   "outputs": [],
   "source": [
    "# To read\n",
    "exp_list = ['FOCI_GJK001','FOCI_GJK006']\n",
    "#label_list = ['Warm phase','Cold phase']\n",
    "time_list = [slice('1850-01-01','2850-01-01'), slice('2850-01-01','3950-01-01')]"
   ]
  },
  {
   "cell_type": "markdown",
   "id": "c7069cb4-b0b0-4751-a69b-ae5463ac20a2",
   "metadata": {},
   "source": [
    "## Barotropic streamfunction"
   ]
  },
  {
   "cell_type": "code",
   "execution_count": 6,
   "id": "d3cc3ede-0625-43f8-bb04-08734c17533a",
   "metadata": {},
   "outputs": [
    {
     "name": "stdout",
     "output_type": "stream",
     "text": [
      "/gxfs_work1/geomar/smomw352/esm-experiments//FOCI_GJK001/derived/nemo/FOCI_GJK001*1y*psi.nc\n",
      "/gxfs_work1/geomar/smomw352/esm-experiments//FOCI_GJK006/derived/nemo/FOCI_GJK006*1y*psi.nc\n"
     ]
    }
   ],
   "source": [
    "## Read barotropic stream function\n",
    "ds_psi_all = []\n",
    "\n",
    "for exp,time in zip(exp_list,time_list):\n",
    "    \n",
    "    psi = '%s/%s/derived/nemo/%s*1y*psi.nc' % (esmdir,exp,exp)\n",
    "    print(psi)\n",
    "    # Python calendar fails after year 2300 or so. We need cf_time\n",
    "    ds_psi = xr.open_mfdataset(psi,combine='by_coords',use_cftime=True).rename({'time_counter':'time'}).sel(time=time)\n",
    "    ds_psi_all.append(ds_psi)"
   ]
  },
  {
   "cell_type": "markdown",
   "id": "bb7aa74b-8c99-4d0f-8a0a-46666c12e4b5",
   "metadata": {},
   "source": [
    "## Subpolar gyre"
   ]
  },
  {
   "cell_type": "code",
   "execution_count": 53,
   "id": "56b8d7b8-7e2a-44d0-aa87-cc3bc98f8179",
   "metadata": {},
   "outputs": [],
   "source": [
    "spg_amp = []\n",
    "spg_lon = []\n",
    "spg_lat = []\n",
    "\n",
    "for i, ds in enumerate( ds_psi_all[0:1] ):\n",
    "    \n",
    "    psi = ds['sobarstf']\n",
    "    \n",
    "    jmin, jmax, imin, imax = 350,420,400,600\n",
    "    \n",
    "    # find minimum of stream function in subpolar North Atlantic\n",
    "    _spg_amp = psi[:,jmin:jmax, imin:imax].min(('x','y'))\n",
    "    \n",
    "    if 0:\n",
    "        # find x,y coord of minimum \n",
    "        _spg_loc = psi[:,jmin:jmax, imin:imax].argmin(('x','y'))\n",
    "        \n",
    "        _spg_lon_1, _spg_lat_1 = [], []\n",
    "        for j in range(0, 20): #len(psi['time'])):\n",
    "            _y, _x = _spg_loc['y'][j].values, _spg_loc['x'][j].values\n",
    "            print(j, _x, _y)\n",
    "            _spg_lon_1.append( da_orca05_lon[_y, _x] )\n",
    "            _spg_lat_1.append( da_orca05_lat[_y, _x] )\n",
    "        \n",
    "        _spg_lon = xr.DataArray( data=_spg_lon_1, dims=[\"time\"], \n",
    "                                 coords=dict(time=psi['time'][0:20]), \n",
    "                                 attrs=dict(description=\"SPG lon\", units=\"degrees_east\")\n",
    "                               )\n",
    "        \n",
    "        _spg_lat = xr.DataArray( data=_spg_lat_1, dims=[\"time\"], \n",
    "                                 coords=dict(time=psi['time'][0:20]), \n",
    "                                 attrs=dict(description=\"SPG lat\", units=\"degrees_north\")\n",
    "                               )\n",
    "        \n",
    "        spg_lon.append(_spg_lon)\n",
    "        spg_lat.append(_spg_lat)\n",
    "        \n",
    "    spg_amp.append(_spg_amp)\n",
    "    \n",
    "spg_amp = xr.concat( spg_amp, dim='time' )\n",
    "#spg_lon = xr.concat( spg_lon, dim='time' )\n",
    "#spg_lat = xr.concat( spg_lat, dim='time' )"
   ]
  },
  {
   "cell_type": "code",
   "execution_count": 55,
   "id": "96022821-b6b4-42de-9c64-f59d7db4bebb",
   "metadata": {},
   "outputs": [],
   "source": [
    "## Save to netcdf\n",
    "spg_amp.name = 'spg_amp'\n",
    "ds_amp = spg_amp.to_dataset()\n",
    "ds_amp.to_netcdf('data/SPG_new_1850_3999.nc')"
   ]
  },
  {
   "cell_type": "code",
   "execution_count": 48,
   "id": "0bc422c0-c2f1-4fc0-adc6-1b426fb4e3d9",
   "metadata": {},
   "outputs": [],
   "source": [
    "_y, _x = _spg_loc['y'].values, _spg_loc['x'].values"
   ]
  },
  {
   "cell_type": "code",
   "execution_count": 50,
   "id": "58ae6ebf-35fa-4c2b-9847-498768728dee",
   "metadata": {},
   "outputs": [
    {
     "data": {
      "text/plain": [
       "array([[115.75, 109.25, 108.75, ..., 122.75, 122.75, 122.75],\n",
       "       [115.75, 109.25, 108.75, ..., 122.75, 122.75, 122.75],\n",
       "       [115.75, 109.25, 108.75, ..., 122.75, 122.75, 122.75],\n",
       "       ...,\n",
       "       [115.75, 109.25, 108.75, ..., 122.75, 122.75, 122.75],\n",
       "       [115.75, 109.25, 108.75, ..., 122.75, 122.75, 122.75],\n",
       "       [115.75, 109.25, 108.75, ..., 122.75, 122.75, 122.75]],\n",
       "      dtype=float32)"
      ]
     },
     "execution_count": 50,
     "metadata": {},
     "output_type": "execute_result"
    }
   ],
   "source": []
  },
  {
   "cell_type": "code",
   "execution_count": 31,
   "id": "51935c4c-2b4a-4d36-a406-7d5c39048a53",
   "metadata": {},
   "outputs": [
    {
     "data": {
      "text/plain": [
       "[<matplotlib.lines.Line2D at 0x14c25f183750>]"
      ]
     },
     "execution_count": 31,
     "metadata": {},
     "output_type": "execute_result"
    },
    {
     "data": {
      "image/png": "[encoded data removed]",
      "text/plain": [
       "<Figure size 432x288 with 1 Axes>"
      ]
     },
     "metadata": {
      "needs_background": "light"
     },
     "output_type": "display_data"
    }
   ],
   "source": [
    "spg_amp.plot()"
   ]
  },
  {
   "cell_type": "code",
   "execution_count": 29,
   "id": "68cac674-0523-4a81-a9e7-ff5ee339fc8a",
   "metadata": {},
   "outputs": [
    {
     "data": {
      "text/plain": [
       "array(46)"
      ]
     },
     "execution_count": 29,
     "metadata": {},
     "output_type": "execute_result"
    }
   ],
   "source": [
    "\n",
    "spg_loc['y'].values"
   ]
  },
  {
   "cell_type": "code",
   "execution_count": null,
   "id": "dc101cbf-c356-4ddf-9b21-29b1158ad9d8",
   "metadata": {},
   "outputs": [],
   "source": []
  }
 ],
 "metadata": {
  "kernelspec": {
   "display_name": "py3_std",
   "language": "python",
   "name": "py3_std"
  },
  "language_info": {
   "codemirror_mode": {
    "name": "ipython",
    "version": 3
   },
   "file_extension": ".py",
   "mimetype": "text/x-python",
   "name": "python",
   "nbconvert_exporter": "python",
   "pygments_lexer": "ipython3",
   "version": "3.7.10"
  }
 },
 "nbformat": 4,
 "nbformat_minor": 5
}
