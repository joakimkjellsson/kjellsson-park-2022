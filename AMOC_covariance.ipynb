{
 "cells": [
  {
   "cell_type": "markdown",
   "id": "f27c36b7-9d98-48b6-9a11-8e913497f348",
   "metadata": {},
   "source": [
    "# AMOC covariance"
   ]
  },
  {
   "cell_type": "code",
   "execution_count": 1,
   "id": "a9410fca-837b-4cab-8524-904744976bb2",
   "metadata": {},
   "outputs": [],
   "source": [
    "import numpy as np\n",
    "import matplotlib.pyplot as plt\n",
    "import matplotlib.colors as colors\n",
    "import xarray as xr\n",
    "import cartopy\n",
    "import cartopy.crs as ccrs\n",
    "import cmocean \n",
    "from scipy.signal import welch\n",
    "import seaborn as sns"
   ]
  },
  {
   "cell_type": "code",
   "execution_count": 2,
   "id": "fac37445-6123-403d-b5b0-d44f89eb8fd3",
   "metadata": {},
   "outputs": [],
   "source": [
    "from dask.distributed import Client, LocalCluster, wait"
   ]
  },
  {
   "cell_type": "code",
   "execution_count": 3,
   "id": "aa07b8d6-547c-4f30-b078-b78e07b37533",
   "metadata": {},
   "outputs": [],
   "source": [
    "cluster = LocalCluster(n_workers=4, threads_per_worker=2, memory_limit=16e9,\n",
    "                       silence_logs=50)\n",
    "client = Client(address=cluster)"
   ]
  },
  {
   "cell_type": "code",
   "execution_count": 4,
   "id": "1508a083-b0c3-40ec-ac18-b7d79e2bf12e",
   "metadata": {},
   "outputs": [
    {
     "data": {
      "text/html": [
       "<table style=\"border: 2px solid white;\">\n",
       "<tr>\n",
       "<td style=\"vertical-align: top; border: 0px solid white\">\n",
       "<h3 style=\"text-align: left;\">Client</h3>\n",
       "<ul style=\"text-align: left; list-style: none; margin: 0; padding: 0;\">\n",
       "  <li><b>Scheduler: </b>tcp://127.0.0.1:36083</li>\n",
       "  <li><b>Dashboard: </b><a href='http://127.0.0.1:8787/status' target='_blank'>http://127.0.0.1:8787/status</a></li>\n",
       "</ul>\n",
       "</td>\n",
       "<td style=\"vertical-align: top; border: 0px solid white\">\n",
       "<h3 style=\"text-align: left;\">Cluster</h3>\n",
       "<ul style=\"text-align: left; list-style:none; margin: 0; padding: 0;\">\n",
       "  <li><b>Workers: </b>4</li>\n",
       "  <li><b>Cores: </b>8</li>\n",
       "  <li><b>Memory: </b>59.60 GiB</li>\n",
       "</ul>\n",
       "</td>\n",
       "</tr>\n",
       "</table>"
      ],
      "text/plain": [
       "<Client: 'tcp://127.0.0.1:36083' processes=4 threads=8, memory=59.60 GiB>"
      ]
     },
     "execution_count": 4,
     "metadata": {},
     "output_type": "execute_result"
    }
   ],
   "source": [
    "client"
   ]
  },
  {
   "cell_type": "code",
   "execution_count": 5,
   "id": "002834b4-7d10-467e-947f-252fd181cb28",
   "metadata": {},
   "outputs": [],
   "source": [
    "machine = 'nesh'\n",
    "\n",
    "if machine == 'sci':\n",
    "    esmdir = '/data/user/jkjellsson/esm-experiments/focioifs/'\n",
    "    nemo_mesh = '/data/user/jkjellsson/orca05_mesh_mask.nc'\n",
    "elif machine == 'nesh':\n",
    "    esmdir = '/gxfs_work1/geomar/smomw352/esm-experiments/'\n",
    "    nemo_mesh = '/gxfs_work1/geomar/smomw352/orca05_mesh_mask.nc'"
   ]
  },
  {
   "cell_type": "markdown",
   "id": "c3a896b5-6e3a-43f5-b918-c0430bae67e3",
   "metadata": {},
   "source": [
    "## Read NEMO mesh"
   ]
  },
  {
   "cell_type": "code",
   "execution_count": 6,
   "id": "6a5a678f-1a1c-4b2a-b8f3-148161c5d2a0",
   "metadata": {},
   "outputs": [],
   "source": [
    "# NEMO mesh\n",
    "ds_mesh = xr.open_dataset(nemo_mesh)\n",
    "da_orca05_area = (ds_mesh['e1t'] * ds_mesh['e2t']).sel(t=0)\n",
    "da_orca05_mask = ds_mesh['tmask'].sel(t=0,z=0)"
   ]
  },
  {
   "cell_type": "markdown",
   "id": "5d35186d-500f-4dba-be6a-e3a166d38d90",
   "metadata": {},
   "source": [
    "## Read OpenIFS mesh"
   ]
  },
  {
   "cell_type": "code",
   "execution_count": null,
   "id": "622647c8-e7ca-43ed-8fc5-73a8f2b9a7fa",
   "metadata": {},
   "outputs": [],
   "source": []
  },
  {
   "cell_type": "markdown",
   "id": "9495bcaf-1604-48f5-aaaa-21df808ae3ce",
   "metadata": {},
   "source": [
    "## Read NEMO stream functions"
   ]
  },
  {
   "cell_type": "code",
   "execution_count": 7,
   "id": "d4212681-be71-49a4-9513-5acf6cde7751",
   "metadata": {},
   "outputs": [],
   "source": [
    "exp_list = ['FOCI_GJK001','FOCI_GJK001']\n",
    "label_list = ['Warm phase','Cold phase']\n",
    "time_list = [slice('2200-01-01','2400-01-01'), slice('2600-01-01','2800-01-01')]"
   ]
  },
  {
   "cell_type": "code",
   "execution_count": 8,
   "id": "6219e25a-fc3f-4ccb-af4f-23fbbc05db26",
   "metadata": {},
   "outputs": [
    {
     "name": "stdout",
     "output_type": "stream",
     "text": [
      "//gxfs_work1/geomar/smomw352/esm-experiments//FOCI_GJK001/outdata/nemo/cdf_analysis/FOCI_GJK001*1m*MOC.nc\n",
      "//gxfs_work1/geomar/smomw352/esm-experiments//FOCI_GJK001/outdata/nemo/cdf_analysis/FOCI_GJK001*1m*PSI.nc\n",
      "//gxfs_work1/geomar/smomw352/esm-experiments//FOCI_GJK001/outdata/nemo/cdf_analysis/FOCI_GJK001*1m*MOC.nc\n",
      "//gxfs_work1/geomar/smomw352/esm-experiments//FOCI_GJK001/outdata/nemo/cdf_analysis/FOCI_GJK001*1m*PSI.nc\n"
     ]
    }
   ],
   "source": [
    "# NEMO derived\n",
    "ds_moc_all = []\n",
    "ds_psi_all = []\n",
    "for exp,time in zip(exp_list,time_list):\n",
    "    moc = '/%s/%s/outdata/nemo/cdf_analysis/%s*1m*MOC.nc' % (esmdir,exp,exp)\n",
    "    print(moc)\n",
    "    ds_moc = xr.open_mfdataset(moc,combine='by_coords',use_cftime=True).rename({'time_counter':'time'}).sel(time=time)\n",
    "    ds_moc_all.append(ds_moc)\n",
    "    \n",
    "    psi = '/%s/%s/outdata/nemo/cdf_analysis/%s*1m*PSI.nc' % (esmdir,exp,exp)\n",
    "    print(psi)\n",
    "    ds_psi = xr.open_mfdataset(psi,combine='by_coords',use_cftime=True).rename({'time_counter':'time'}).sel(time=time)\n",
    "    ds_psi_all.append(ds_psi)"
   ]
  },
  {
   "cell_type": "code",
   "execution_count": 9,
   "id": "812bb97f-a197-4091-b24b-0292c35d572a",
   "metadata": {},
   "outputs": [
    {
     "name": "stdout",
     "output_type": "stream",
     "text": [
      "//gxfs_work1/geomar/smomw352/esm-experiments//FOCI_GJK001/outdata/nemo/FOCI_GJK001*1m*icemod.nc\n",
      "//gxfs_work1/geomar/smomw352/esm-experiments//FOCI_GJK001/outdata/nemo/FOCI_GJK001*1m*icemod.nc\n"
     ]
    }
   ],
   "source": [
    "# NEMO ice\n",
    "ds_ice_all = []\n",
    "for exp,time in zip(exp_list,time_list):\n",
    "    ice = '/%s/%s/outdata/nemo/%s*1m*icemod.nc' % (esmdir,exp,exp)\n",
    "    print(ice)\n",
    "    ds_ice = xr.open_mfdataset(ice,combine='by_coords',use_cftime=True).rename({'time_counter':'time'}).sel(time=time)\n",
    "    ds_ice_all.append(ds_ice)"
   ]
  },
  {
   "cell_type": "markdown",
   "id": "a5ed590a-ae4a-4eb6-a4ee-b75adcd5c213",
   "metadata": {},
   "source": [
    "## Read OpenIFS data"
   ]
  },
  {
   "cell_type": "code",
   "execution_count": 10,
   "id": "5e4eb167-83be-4ff2-9dd0-c8ea5ac57324",
   "metadata": {},
   "outputs": [
    {
     "name": "stdout",
     "output_type": "stream",
     "text": [
      "/gxfs_work1/geomar/smomw352/esm-experiments//FOCI_GJK001/outdata/oifs/1y/*1y*regular_sfc.nc\n",
      "/gxfs_work1/geomar/smomw352/esm-experiments//FOCI_GJK001/outdata/oifs/1y/*1y*regular_sfc.nc\n"
     ]
    }
   ],
   "source": [
    "# OpenIFS surface\n",
    "ds_sfc_all = []\n",
    "for exp,time in zip(exp_list,time_list):\n",
    "    sfc = '%s/%s/outdata/oifs/1y/*1y*regular_sfc.nc' % (esmdir,exp)\n",
    "    print(sfc)\n",
    "    # Python calendar fails after year 2300 or so. We need cf_time\n",
    "    ds_sfc = xr.open_mfdataset(sfc,combine='by_coords',use_cftime=True).rename({'time_counter':'time'}).sel(time=time)\n",
    "    ds_sfc_all.append(ds_sfc)"
   ]
  },
  {
   "cell_type": "code",
   "execution_count": null,
   "id": "a940035e-4b35-4464-93f2-1d4e28cdf958",
   "metadata": {},
   "outputs": [
    {
     "name": "stdout",
     "output_type": "stream",
     "text": [
      "/gxfs_work1/geomar/smomw352/esm-experiments//FOCI_GJK001/outdata/oifs/*1m*regular_sfc.nc\n",
      "/gxfs_work1/geomar/smomw352/esm-experiments//FOCI_GJK001/outdata/oifs/*1m*regular_sfc.nc\n"
     ]
    }
   ],
   "source": [
    "# OpenIFS surface\n",
    "ds_sfc_1m_all = []\n",
    "for exp,time in zip(exp_list,time_list):\n",
    "    sfc = '%s/%s/outdata/oifs/*1m*regular_sfc.nc' % (esmdir,exp)\n",
    "    print(sfc)\n",
    "    # Python calendar fails after year 2300 or so. We need cf_time\n",
    "    ds_sfc = xr.open_mfdataset(sfc,combine='by_coords',use_cftime=True).rename({'time_counter':'time'}).sel(time=time)\n",
    "    ds_sfc_1m_all.append(ds_sfc)"
   ]
  },
  {
   "cell_type": "markdown",
   "id": "8176c02a-2a56-4c07-b5f7-574e32f8eef9",
   "metadata": {},
   "source": [
    "## AMOC time series"
   ]
  },
  {
   "cell_type": "code",
   "execution_count": null,
   "id": "d739f17d-1ce2-4173-9796-070cfb504fc8",
   "metadata": {},
   "outputs": [],
   "source": [
    "amoc_index = []\n",
    "\n",
    "for i,ds_moc in enumerate(ds_moc_all):\n",
    "    \n",
    "    amoc = ds_moc['zomsfatl'].sel(x=0,y=304).max('depthw').groupby('time.year').mean('time').compute()\n",
    "    amoc_anom = amoc - amoc.mean('year')\n",
    "    \n",
    "    amoc_index.append(amoc_anom)"
   ]
  },
  {
   "cell_type": "code",
   "execution_count": null,
   "id": "222aecec-4fd3-4b9d-aea2-2b755e0cb33b",
   "metadata": {},
   "outputs": [],
   "source": []
  },
  {
   "cell_type": "markdown",
   "id": "52e40242-42b2-46b6-85a4-a6b6ffc1e966",
   "metadata": {},
   "source": [
    "## Correlation with surface variables"
   ]
  },
  {
   "cell_type": "code",
   "execution_count": null,
   "id": "4942c97c-f2a4-4403-8de1-1aa6fb9fb956",
   "metadata": {},
   "outputs": [],
   "source": [
    "def correlation(x, y, dim='time'):\n",
    "    cov = ((x - x.mean(dim=dim))* (y - y.mean(dim=dim))).mean(dim=dim)\n",
    "    corr = cov / x.std(dim=dim) / y.std(dim=dim)\n",
    "    return corr\n",
    "\n",
    "def significance(r,n):\n",
    "    t = r / np.sqrt(1 - r**2) * np.sqrt((n - 2).where(n > 2))\n",
    "    p_values = t.copy()\n",
    "    p_values.values = (2 \n",
    "                       * sns.distributions.stats.t.sf(\n",
    "                       np.abs(t.where(n>2)),\n",
    "                       df=n.where(n>2)-2))\n",
    "    return p_values"
   ]
  },
  {
   "cell_type": "code",
   "execution_count": null,
   "id": "3f253da8-b847-417b-9d26-dfcf98bd77bb",
   "metadata": {},
   "outputs": [],
   "source": [
    "# Plot settings\n",
    "prj = ccrs.PlateCarree()\n",
    "\n",
    "cmap = cmocean.cm.balance\n",
    "\n",
    "i1 = 1\n",
    "i2 = 0\n",
    "label = '%s - %s' % (label_list[i1],label_list[i2])\n",
    "\n",
    "#letters = string.ascii_lowercase\n",
    "\n",
    "variables = ['sstk','2t','tp','ssf','msl']\n",
    "\n",
    "# Set up plot\n",
    "fig1, axs1 = plt.subplots(len(variables),2,figsize=(12,12),subplot_kw={'projection':prj})\n",
    "ax1 = axs1.flat\n",
    "\n",
    "for i,v in enumerate(variables): \n",
    "    \n",
    "    scale = 1\n",
    "    if v == 'sstk':\n",
    "        vv = 'SST'\n",
    "        vmax = 2\n",
    "        \n",
    "    elif v == '2t':\n",
    "        vv = 'T2m'\n",
    "        vmax = 2\n",
    "    \n",
    "    elif v == 'ci':\n",
    "        vv = 'Sea-ice fraction'\n",
    "        vmax = 0.2\n",
    "        \n",
    "    elif v == 'tp':\n",
    "        scale = 4000 # mm/d\n",
    "        vv = 'Precip'\n",
    "        vmax = 1\n",
    "    \n",
    "    elif v == 'msl':\n",
    "        scale = 0.01\n",
    "        vv = 'MSLP'\n",
    "        vmax = 1\n",
    "    \n",
    "    elif v == 'ssf':\n",
    "        scale = 1./(6 * 60 * 60)\n",
    "        vv = 'Turb. heat flux'\n",
    "        vmax = 20\n",
    "        \n",
    "    elif v == 'toa':\n",
    "        scale = 1./(6 * 60 * 60)\n",
    "        vv = 'TOA net'\n",
    "        vmax = 20\n",
    "    \n",
    "    for j,(amoc,ds_sfc) in enumerate( zip(amoc_index, ds_sfc_all) ):\n",
    "        \n",
    "        if v == 'ssf':\n",
    "            data1 = ds_sfc['sshf'].groupby('time.year').mean('time').compute() * scale\n",
    "            data2 = ds_sfc['slhf'].groupby('time.year').mean('time').compute() * scale\n",
    "            \n",
    "            data = data1 + data2\n",
    "            \n",
    "        elif v == 'toa':\n",
    "            data1 = ds_sfc['tsr'].groupby('time.year').mean('time').compute() * scale\n",
    "            data2 = ds_sfc['ttr'].groupby('time.year').mean('time').compute() * scale\n",
    "            \n",
    "            data = data1 + data2\n",
    "        \n",
    "        else:\n",
    "            data = ds_sfc[v].groupby('time.year').mean('time').compute() * scale\n",
    "\n",
    "        # Remove masked data\n",
    "        nan_mask = ~xr.ufuncs.isnan(data) & ~xr.ufuncs.isnan(amoc)\n",
    "        data = data.where(nan_mask)\n",
    "        amoc = amoc.where(nan_mask)\n",
    "        \n",
    "        # Compute correlation with AMOC\n",
    "        r = correlation(amoc, data, dim='year').compute()\n",
    "        n = nan_mask.sum(dim='year')\n",
    "        p = significance(r,n).compute()\n",
    "        \n",
    "        # Plot\n",
    "        r.plot(ax=axs1[i,j],vmin=-1,vmax=1,cmap=cmocean.cm.balance,rasterized=True)\n",
    "        p.plot.contourf(ax=axs1[i,j],levels=(0, 0.05,1.), transform=ccrs.PlateCarree(),\n",
    "                        colors='none', hatches=(None, '..'),\n",
    "                        add_colorbar=False,rasterized=True)\n",
    "        \n",
    "        axs1[i,j].set_title('r(AMOC,%s) %s' % (vv,label_list[j]))\n",
    "        \n",
    "for ax in ax1:\n",
    "    ax.coastlines()\n",
    "\n",
    "fig1.savefig('amoc_covariance.pdf',format='pdf')"
   ]
  },
  {
   "cell_type": "markdown",
   "id": "6d458be4-9d55-47aa-bda7-936713cffe40",
   "metadata": {},
   "source": [
    "## Time series of indices"
   ]
  },
  {
   "cell_type": "code",
   "execution_count": null,
   "id": "939f6c83-4549-41ca-8b55-046dc01882be",
   "metadata": {},
   "outputs": [],
   "source": [
    "def ice_area(icefrac):\n",
    "    icearea = icefrac * da_orca05_area\n",
    "    ice_sh = icearea[:,0:240,:].sum(('x','y')) * 1e-12 #[million km2]\n",
    "    ice_nh = icearea[:,240:,:].sum(('x','y'))  * 1e-12 #[million km2]\n",
    "    return ice_nh, ice_sh "
   ]
  },
  {
   "cell_type": "code",
   "execution_count": null,
   "id": "976bd25a-daab-4828-befe-4247a575f4d6",
   "metadata": {},
   "outputs": [],
   "source": [
    "def wgtm(data):\n",
    "    weights = np.cos(np.deg2rad(data.lat))\n",
    "    weights.name = \"weights\"\n",
    "    wgt = data.weighted(weights)\n",
    "    mean = wgt.mean(('lon','lat'))\n",
    "    return mean"
   ]
  },
  {
   "cell_type": "markdown",
   "id": "06eb8b32-4a7a-44a3-b0b5-9923d522b0fc",
   "metadata": {},
   "source": [
    "### Sea-ice area and AMOC"
   ]
  },
  {
   "cell_type": "code",
   "execution_count": null,
   "id": "14751a9c-35e6-4c55-a6c6-55450e6cd142",
   "metadata": {},
   "outputs": [],
   "source": [
    "fig3, ax3 = plt.subplots(2,1,figsize=(6,8))\n",
    "\n",
    "for j,(amoc,ds_ice) in enumerate( zip(amoc_index, ds_ice_all) ):\n",
    "    \n",
    "    # Annual mean\n",
    "    icefrac_y = ds_ice['ileadfra'].groupby('time.year').mean('time')\n",
    "    #icefrac_m = ds_ice['ileadfra'].groupby('time.month').mean('time')\n",
    "    #print(icefrac_m)\n",
    "    \n",
    "    # February\n",
    "    icefrac_2 = ds_ice['ileadfra'].sel(time=ds_ice.time.dt.month == 2)\n",
    "    # September\n",
    "    icefrac_9 = ds_ice['ileadfra'].sel(time=ds_ice.time.dt.month == 9)\n",
    "    \n",
    "    # Annual anomalies\n",
    "    icefrac_a = icefrac_y - icefrac_y.mean('year')\n",
    "    \n",
    "    # Feb and Sep anomalies\n",
    "    icefrac_2a = icefrac_2 - icefrac_2.mean('time')\n",
    "    icefrac_9a = icefrac_9 - icefrac_9.mean('time')\n",
    "    \n",
    "    # NH and SH ice areas\n",
    "    ice_nh, ice_sh = ice_area(icefrac_a)\n",
    "    ice_nh_2, _tmp = ice_area(icefrac_2a)\n",
    "    ice_nh_9, _tmp = ice_area(icefrac_9a)\n",
    "    \n",
    "    x1 = ice_nh.values\n",
    "    x2 = ice_sh.values\n",
    "    y = amoc.values\n",
    "    t = amoc.year\n",
    "    \n",
    "    #fig1, ax1 = plt.subplots(1,3)\n",
    "    #ax1[0].scatter(ice_nh.values, y)\n",
    "    #ax1[1].scatter(ice_nh_2.values, y)\n",
    "    #ax1[2].scatter(ice_nh_9.values, y)\n",
    "    \n",
    "    fig2, ax2 = plt.subplots(2,1,figsize=(6,8))\n",
    "    \n",
    "    ax2[0].plot(t,ice_nh_2.values,'-b')\n",
    "    ax2a = ax2[0].twinx()\n",
    "    ax2a.plot(t,amoc.values,'-r')\n",
    "    ax2a.set_title('AMOC and NH SIA (Feb), %s' % (label_list[j],))\n",
    "    \n",
    "    ax2[1].plot(t,ice_nh_9.values,'-b')\n",
    "    ax2b = ax2[1].twinx()\n",
    "    ax2b.plot(t,amoc.values,'-r')\n",
    "    ax2b.set_title('AMOC and NH SIA (Sep), %s' % (label_list[j],))\n",
    "    \n",
    "    ax3[j].plot(t,ice_nh.values,'-b',label='NH SIA')\n",
    "    ax3a = ax3[j].twinx()\n",
    "    ax3a.plot(t,amoc.values,'-r',label='AMOC')\n",
    "    \n",
    "    for ax in [ax2[0],ax2[1],ax3[j]]:\n",
    "        ax.set_xlabel('Year')\n",
    "        ax.set_ylabel('SIA anomaly [million km2]')\n",
    "        \n",
    "        ax.spines['left'].set_color('blue')\n",
    "        \n",
    "        ax.yaxis.label.set_color('blue')\n",
    "        \n",
    "        ax.tick_params(axis='y', colors='blue')\n",
    "        \n",
    "    \n",
    "    for ax in [ax2a, ax2b, ax3a]:\n",
    "        ax.set_ylabel('AMOC anomaly [Sv]')\n",
    "        ax.spines['right'].set_color('red')\n",
    "        ax.yaxis.label.set_color('red')\n",
    "        ax.tick_params(axis='y', colors='red')\n",
    "    \n",
    "    ax3[j].set_title('AMOC and NH SIA, %s' % (label_list[j],))\n",
    "\n",
    "fig3.tight_layout()"
   ]
  },
  {
   "cell_type": "code",
   "execution_count": null,
   "id": "5e39b120-270a-44b6-827d-ed88166b1bc4",
   "metadata": {},
   "outputs": [],
   "source": [
    "fig, ax = plt.subplots(1,1)\n",
    "ds_sfc['sstk'][0,:,:].plot(ax=ax)\n",
    "ax.plot([290,360,360,290,290],[20,20,70,70,20],'-k')\n",
    "\n",
    "tmp = ds_sfc['sstk'].sel(lon=slice(290,360),lat=slice(20,70))\n",
    "na_sst = wgtm(tmp)"
   ]
  },
  {
   "cell_type": "markdown",
   "id": "ce3c561c-408f-469f-a6e8-5344f35629f7",
   "metadata": {},
   "source": [
    "## Covariance with surface variables"
   ]
  },
  {
   "cell_type": "code",
   "execution_count": null,
   "id": "41fb199e-8240-43eb-8631-3bb4c80c532e",
   "metadata": {},
   "outputs": [],
   "source": [
    "def seasonal_means(da):\n",
    "    # Resample to quarters, starting in Feb\n",
    "    res = da.resample(time='Q-FEB').mean()\n",
    "    \n",
    "    # Compute DJF, MAM, JJA, SON means\n",
    "    djf = res.sel(time=res['time.month'] == 2).groupby('time.year').mean('time')\n",
    "    mam = res.sel(time=res['time.month'] == 5).groupby('time.year').mean('time')\n",
    "    jja = res.sel(time=res['time.month'] == 8).groupby('time.year').mean('time')\n",
    "    son = res.sel(time=res['time.month'] == 11).groupby('time.year').mean('time')\n",
    "    \n",
    "    return djf, mam, jja, son"
   ]
  },
  {
   "cell_type": "code",
   "execution_count": null,
   "id": "f0af4090-561e-42c7-bf28-c9c37b67e8e0",
   "metadata": {},
   "outputs": [],
   "source": [
    "fig3, ax3 = plt.subplots(2,1,figsize=(6,8))\n",
    "\n",
    "lon1 = 290\n",
    "lon2 = 360\n",
    "lat1 = 40\n",
    "lat2 = 70\n",
    "\n",
    "for j,(amoc,ds_sfc) in enumerate( zip(amoc_index, ds_sfc_1m_all) ):\n",
    "    \n",
    "    # Sea surface temp (seen by atm)\n",
    "    sst = wgtm( ds_sfc['sstk'].sel(lon=slice(lon1,lon2),lat=slice(lat1,lat2)) )\n",
    "    print(sst.values)\n",
    "    \n",
    "    # Sensible + latent heat flux [W/m2]\n",
    "    thf = wgtm( (ds_sfc['sshf'].sel(lon=slice(lon1,lon2),lat=slice(lat1,lat2)) + \n",
    "                 ds_sfc['slhf'].sel(lon=slice(lon1,lon2),lat=slice(lat1,lat2))) / (6.*60*60) )\n",
    "    \n",
    "    # E-P\n",
    "    emp = wgtm( (ds_sfc['e'].sel(lon=slice(lon1,lon2),lat=slice(lat1,lat2)) + \n",
    "                 ds_sfc['tp'].sel(lon=slice(lon1,lon2),lat=slice(lat1,lat2))) / (6.*60*60) )\n",
    "    \n",
    "    # Annual anomalies\n",
    "    sst_a = sst.groupby('time.year').mean('time') - sst.groupby('time.year').mean('time').mean('year')\n",
    "    print(sst_a.values)\n",
    "    #thf_a = thf.groupby('time.year').mean('time')\n",
    "    #emp_a = emp.groupby('time.year').mean('time')\n",
    "    \n",
    "    # Seasonal \n",
    "    sst_djf, _, sst_jja, _ = seasonal_means(sst)\n",
    "    #sst_djf = sst.where(sst['time.season'] == 'DJF')\n",
    "    #print(sst_djf)\n",
    "    #ds_res = ds_res.sel(time=ds_res['time.month'] == 2)\n",
    "    #ds_res = ds_res.groupby('time.year').mean('time')\n",
    "    \n",
    "    # DJF anomalies\n",
    "    sst_djf_a = sst_djf - sst_djf.mean('year')\n",
    "    \n",
    "    # JJA\n",
    "    sst_djf_a = sst_jja - sst_jja.mean('year')\n",
    "    \n",
    "    x1 = ice_nh.values\n",
    "    x2 = ice_sh.values\n",
    "    y = amoc.values\n",
    "    t = amoc.year\n",
    "    \n",
    "    #fig1, ax1 = plt.subplots(1,3)\n",
    "    #ax1[0].scatter(ice_nh.values, y)\n",
    "    #ax1[1].scatter(ice_nh_2.values, y)\n",
    "    #ax1[2].scatter(ice_nh_9.values, y)\n",
    "    \n",
    "    fig2, ax2 = plt.subplots(2,1,figsize=(6,8))\n",
    "    \n",
    "    ax2[0].plot(amoc.year, sst_a.values, '-b')\n",
    "    ax2a = ax2[0].twinx()\n",
    "    ax2a.plot(amoc.year, amoc.values, '-r')\n",
    "    ax2a.set_title('AMOC and N.Atl. SST, %s' % (label_list[j],))\n",
    "    ax2[0].set_ylabel('SST anomaly [K]')\n",
    "    \n",
    "    #ax2[1].plot(t,ice_nh_9.values,'-b')\n",
    "    #ax2b = ax2[1].twinx()\n",
    "    #ax2b.plot(t,amoc.values,'-r')\n",
    "    #ax2a.set_title('AMOC and NH SIA (Sep), %s' % (label_list[j],))\n",
    "    \n",
    "    #ax3[j].plot(t,ice_nh.values,'-b',label='NH SIA')\n",
    "    #ax3a = ax3[j].twinx()\n",
    "    #ax3a.plot(t,amoc.values,'-r',label='AMOC')\n",
    "    \n",
    "    for ax in [ax2[0],ax2[1],ax3[j]]:\n",
    "        ax.set_xlabel('Year')\n",
    "        ax.spines['left'].set_color('blue')\n",
    "        ax.yaxis.label.set_color('blue')\n",
    "        ax.tick_params(axis='y', colors='blue')\n",
    "    \n",
    "    for ax in [ax2a, ax2b, ax3a]:\n",
    "        ax.set_ylabel('AMOC anomaly [Sv]')\n",
    "        ax.spines['right'].set_color('red')\n",
    "        ax.yaxis.label.set_color('red')\n",
    "        ax.tick_params(axis='y', colors='red')\n",
    "    \n",
    "    ax3[j].set_title('AMOC and NH SIA, %s' % (label_list[j],))\n",
    "\n",
    "fig3.tight_layout()"
   ]
  },
  {
   "cell_type": "code",
   "execution_count": 19,
   "id": "156a4892-175c-444e-a371-ac9cb4672b38",
   "metadata": {},
   "outputs": [
    {
     "name": "stdout",
     "output_type": "stream",
     "text": [
      "<xarray.DataArray 'zomsfatl' (year: 200)>\n",
      "array([ 1.7864113 ,  0.50205517,  0.29708385, -1.3160896 ,  0.99588394,\n",
      "        0.25728893, -1.22153   , -0.37003613, -0.99000263, -1.0606852 ,\n",
      "       -1.3219757 ,  0.2443285 , -0.5900583 , -1.090785  , -0.59352493,\n",
      "       -1.784955  , -2.5488577 , -1.9647217 , -1.347642  , -1.2389803 ,\n",
      "        0.08708286, -0.09961605, -0.7848139 , -1.5918531 , -1.772788  ,\n",
      "       -1.1697187 ,  0.3893118 ,  1.947546  ,  2.7105408 ,  3.3881474 ,\n",
      "        2.4886303 ,  2.4370441 ,  1.6148014 , -0.1046896 ,  1.4692154 ,\n",
      "        0.11363888,  0.53360367,  0.6106653 , -0.3815298 , -0.03739548,\n",
      "        0.7051277 ,  0.53388596,  1.0461597 ,  1.1229877 , -0.2665472 ,\n",
      "        0.67427444, -0.5677872 , -0.56448746,  0.5107908 ,  1.3197918 ,\n",
      "        0.7087145 ,  1.1695156 , -0.6787844 ,  1.1066303 ,  1.9998817 ,\n",
      "        1.3887119 , -0.23902225, -0.403718  ,  1.3455029 ,  1.5416965 ,\n",
      "        1.8706284 ,  2.6515942 ,  0.76753616,  1.2589417 ,  0.45067883,\n",
      "        0.39781094,  0.6695137 , -0.37479687, -0.934268  , -0.12363911,\n",
      "        0.26959705,  0.15271091, -0.15926743,  0.6321745 , -2.2568588 ,\n",
      "       -0.68748   ,  0.12738132,  0.42010498,  0.3061266 ,  0.37770367,\n",
      "       -0.00974274, -0.50132465, -0.62965775, -1.8760958 , -1.1835032 ,\n",
      "       -1.0834894 ,  0.6470108 ,  1.0016613 , -1.2909784 , -0.94201374,\n",
      "       -0.34393406, -1.1314554 , -1.7551355 , -0.16005611, -0.29537296,\n",
      "       -2.4099665 , -2.2665358 , -0.94218826, -0.16353226, -0.23479557,\n",
      "...\n",
      "       -0.51106167, -0.59156513,  0.24833679, -0.72136974,  0.7629862 ,\n",
      "       -0.98844147, -1.5626173 ,  0.83421326,  0.47938824, -1.3703232 ,\n",
      "        0.72576237,  1.3805523 ,  0.4087324 ,  1.4125347 , -0.6228285 ,\n",
      "        0.88708115,  0.98973846,  1.1999474 ,  2.5481892 ,  1.0618248 ,\n",
      "       -0.1917839 , -0.6166105 ,  0.02391911, -1.248023  , -0.09090137,\n",
      "        0.5407791 , -0.23641682, -0.6052208 , -0.72942734,  1.1684208 ,\n",
      "       -0.07457447, -0.09173107,  0.09437084,  0.9124336 ,  0.4370222 ,\n",
      "        1.8920612 ,  0.8374605 ,  1.7701874 ,  1.6104183 ,  1.5392017 ,\n",
      "        0.76038265,  1.0125656 ,  0.6969681 ,  0.56406784,  1.8589039 ,\n",
      "        1.0277195 ,  1.0848598 , -0.24424744, -1.4132414 , -0.5336838 ,\n",
      "        0.41350937,  0.59706116,  0.839736  , -0.49138737, -0.5778265 ,\n",
      "       -0.44198322, -0.40590668, -0.858799  , -1.825799  , -1.7666597 ,\n",
      "       -1.9112358 , -2.6754684 , -0.8302536 , -0.70683575, -2.1892242 ,\n",
      "       -1.1952744 , -1.6051035 , -0.9512329 , -2.1251001 ,  0.05730915,\n",
      "        0.11932468,  0.0466423 , -0.5114441 , -1.4575348 , -0.62328625,\n",
      "        0.5687132 , -0.00684452,  0.05993652,  1.4969177 ,  1.2925167 ,\n",
      "        1.4322262 ,  1.4304752 ,  1.6129131 ,  1.8985062 ,  0.01118374,\n",
      "       -1.6052399 , -1.0067701 , -0.14050007, -0.7568474 , -0.6571512 ,\n",
      "       -0.5617943 , -0.38421917, -0.7370844 , -0.11799145, -0.8502159 ],\n",
      "      dtype=float32)\n",
      "Coordinates:\n",
      "  * year     (year) int64 2600 2601 2602 2603 2604 ... 2795 2796 2797 2798 2799\n"
     ]
    },
    {
     "data": {
      "text/plain": [
       "[<matplotlib.lines.Line2D at 0x153bbc55c2d0>]"
      ]
     },
     "execution_count": 19,
     "metadata": {},
     "output_type": "execute_result"
    },
    {
     "data": {
      "image/png": "[encoded data removed]",
      "text/plain": [
       "<Figure size 432x288 with 2 Axes>"
      ]
     },
     "metadata": {
      "needs_background": "light"
     },
     "output_type": "display_data"
    }
   ],
   "source": [
    "fig, ax = plt.subplots(2,1)\n",
    "na_sst.groupby('time.year').mean('time').plot(ax=ax[0])\n",
    "print(amoc)\n",
    "amoc.plot(ax=ax[1])"
   ]
  },
  {
   "cell_type": "code",
   "execution_count": null,
   "id": "0973a02c-b871-4e1d-aa70-dca734103604",
   "metadata": {},
   "outputs": [],
   "source": []
  }
 ],
 "metadata": {
  "kernelspec": {
   "display_name": "py3_std",
   "language": "python",
   "name": "py3_std"
  },
  "language_info": {
   "codemirror_mode": {
    "name": "ipython",
    "version": 3
   },
   "file_extension": ".py",
   "mimetype": "text/x-python",
   "name": "python",
   "nbconvert_exporter": "python",
   "pygments_lexer": "ipython3",
   "version": "3.7.10"
  }
 },
 "nbformat": 4,
 "nbformat_minor": 5
}
